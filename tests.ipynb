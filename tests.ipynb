{
 "cells": [
  {
   "cell_type": "code",
   "execution_count": null,
   "metadata": {},
   "outputs": [],
   "source": [
    "from tests_horizontal_a5a import run_tests_horizontal_a5a\n",
    "from tests_horizontal_mushrooms import run_tests_horizontal_mushrooms\n",
    "from tests_horizontal_w3a import run_tests_horizontal_w3a\n",
    "from tests_vertical_a5a import run_tests_vertical_a5a\n",
    "from tests_vertical_mushrooms import run_tests_vertical_mushrooms\n",
    "from tests_vertical_w3a import run_tests_vertical_w3a"
   ]
  },
  {
   "cell_type": "code",
   "execution_count": null,
   "metadata": {},
   "outputs": [],
   "source": [
    "run_tests_horizontal_a5a()"
   ]
  },
  {
   "cell_type": "code",
   "execution_count": null,
   "metadata": {},
   "outputs": [],
   "source": [
    "run_tests_horizontal_mushrooms()"
   ]
  },
  {
   "cell_type": "code",
   "execution_count": null,
   "metadata": {},
   "outputs": [],
   "source": [
    "run_tests_horizontal_w3a()"
   ]
  },
  {
   "cell_type": "code",
   "execution_count": null,
   "metadata": {},
   "outputs": [],
   "source": [
    "run_tests_vertical_a5a()"
   ]
  },
  {
   "cell_type": "code",
   "execution_count": null,
   "metadata": {},
   "outputs": [],
   "source": [
    "run_tests_vertical_mushrooms()"
   ]
  },
  {
   "cell_type": "code",
   "execution_count": null,
   "metadata": {},
   "outputs": [],
   "source": [
    "run_tests_vertical_w3a"
   ]
  }
 ],
 "metadata": {
  "language_info": {
   "name": "python"
  }
 },
 "nbformat": 4,
 "nbformat_minor": 2
}
